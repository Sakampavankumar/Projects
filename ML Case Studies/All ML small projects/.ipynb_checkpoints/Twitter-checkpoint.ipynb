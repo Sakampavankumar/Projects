{
 "cells": [
  {
   "cell_type": "code",
   "execution_count": 1,
   "metadata": {},
   "outputs": [],
   "source": [
    "from textblob import TextBlob\n"
   ]
  },
  {
   "cell_type": "code",
   "execution_count": 2,
   "metadata": {},
   "outputs": [],
   "source": [
    "wiki = TextBlob(\"Harshit is angry that he never gets good matches in Tinder\")"
   ]
  },
  {
   "cell_type": "code",
   "execution_count": 3,
   "metadata": {},
   "outputs": [
    {
     "data": {
      "text/plain": [
       "[('Harshit', 'NNP'),\n",
       " ('is', 'VBZ'),\n",
       " ('angry', 'JJ'),\n",
       " ('that', 'IN'),\n",
       " ('he', 'PRP'),\n",
       " ('never', 'RB'),\n",
       " ('gets', 'VBZ'),\n",
       " ('good', 'JJ'),\n",
       " ('matches', 'NNS'),\n",
       " ('in', 'IN'),\n",
       " ('Tinder', 'NN')]"
      ]
     },
     "execution_count": 3,
     "metadata": {},
     "output_type": "execute_result"
    }
   ],
   "source": [
    "wiki.tags\n"
   ]
  },
  {
   "cell_type": "code",
   "execution_count": 4,
   "metadata": {},
   "outputs": [
    {
     "data": {
      "text/plain": [
       "WordList(['Harshit', 'is', 'angry', 'that', 'he', 'never', 'gets', 'good', 'matches', 'in', 'Tinder'])"
      ]
     },
     "execution_count": 4,
     "metadata": {},
     "output_type": "execute_result"
    }
   ],
   "source": [
    "wiki.words"
   ]
  },
  {
   "cell_type": "code",
   "execution_count": 5,
   "metadata": {},
   "outputs": [
    {
     "data": {
      "text/plain": [
       "0.09999999999999998"
      ]
     },
     "execution_count": 5,
     "metadata": {},
     "output_type": "execute_result"
    }
   ],
   "source": [
    "wiki.sentiment.polarity"
   ]
  },
  {
   "cell_type": "markdown",
   "metadata": {},
   "source": [
    "# Main Program"
   ]
  },
  {
   "cell_type": "code",
   "execution_count": 6,
   "metadata": {},
   "outputs": [],
   "source": [
    "import tweepy\n",
    "from textblob import TextBlob"
   ]
  },
  {
   "cell_type": "code",
   "execution_count": 7,
   "metadata": {},
   "outputs": [],
   "source": [
    "consumer_key = 'W4OX7Lj0biSvvP3xs9haAxC2v'\n",
    "consumer_secret = 'soKpGWehBNNFfwBXdFIWG96aNNUdyNuiKl9b9RxFZXtGmla3MU'\n",
    "\n",
    "access_token = '1016748418180505600-NNut4G9mSh2768yocwyb5xm4s5OTdE'\n",
    "access_token_secret = 'Cza06MlOVGz2OYxnRsP6jnVFgseeXgeDmE126GXkUoWoO'\n"
   ]
  },
  {
   "cell_type": "code",
   "execution_count": 8,
   "metadata": {},
   "outputs": [],
   "source": [
    "auth = tweepy.OAuthHandler(consumer_key,consumer_secret)"
   ]
  },
  {
   "cell_type": "code",
   "execution_count": 9,
   "metadata": {},
   "outputs": [],
   "source": [
    "auth.set_access_token(access_token,access_token_secret)"
   ]
  },
  {
   "cell_type": "code",
   "execution_count": 10,
   "metadata": {},
   "outputs": [],
   "source": [
    "api = tweepy.API(auth)"
   ]
  },
  {
   "cell_type": "code",
   "execution_count": 13,
   "metadata": {},
   "outputs": [
    {
     "name": "stdout",
     "output_type": "stream",
     "text": [
      "Enter the tweet name to searchnepal\n",
      "RT @VisitNepalY2020: Heaven is myth, Nepal is Real. Amazing beauty !!\n",
      "Please 👉Follow 🇳🇵👈 रिट्वीट गरिदिनुहुन अनुरोध गर्दछौँ... https://t.co/…\n",
      "Sentiment(polarity=1.0, subjectivity=1.0)\n",
      "Envoy reviews relations with Nepal ministers - Gulf Times : https://t.co/fhhc9Wgm0I\n",
      "Sentiment(polarity=0.0, subjectivity=0.0)\n",
      "@Frost_Sullivan @kathmandupost #Nepal #economicgrowth #economy #digital #technology #digitaltransformation… https://t.co/U6OQo3nR7B\n",
      "Sentiment(polarity=0.0, subjectivity=0.0)\n",
      "Nepal my thoughts are with you right now! It's horrifying what's happening out there.\n",
      "Sentiment(polarity=-0.27142857142857146, subjectivity=0.7678571428571428)\n",
      "RT @RepublicaNepal: #ShaktiGauchan inspired a #generation of #Nepal's players | https://t.co/RIjlp3CedZ https://t.co/SNK5JSrvju\n",
      "Sentiment(polarity=0.0, subjectivity=0.0)\n",
      "RT @TarekFatah: Khalistani terrorists have entered India via Nepal for an attack on India's parliament in Delhi. - Intel reports.  https://…\n",
      "Sentiment(polarity=0.0, subjectivity=0.0)\n",
      "RT @callmeniraj: Even the clouds are most amazing part of khumbu region. \n",
      "#Gokyo \n",
      "#Everest #Nepal https://t.co/QFtqB3YcdU\n",
      "Sentiment(polarity=0.55, subjectivity=0.7)\n",
      "हिजो तिम्रो नामको  मेहेन्दी लगाई, \n",
      "\n",
      "हेर्दै जाउ  भोली  तिमीहरुलाई  चुना पनि लगाएर जान्छे..😂😂\n",
      "Sentiment(polarity=0.0, subjectivity=0.0)\n",
      "RT @ICC: Nepal have named their squad for their maiden ODI series against the Netherlands, with veteran Shakti Gauchan set to make it his s…\n",
      "Sentiment(polarity=0.0, subjectivity=0.0)\n",
      "RT @TarekFatah: Khalistani terrorists have entered India via Nepal for an attack on India's parliament in Delhi. - Intel reports.  https://…\n",
      "Sentiment(polarity=0.0, subjectivity=0.0)\n",
      "@PokemonGOHubNet not receive ex pass in patan nepal lalitpur\n",
      "Sentiment(polarity=0.0, subjectivity=0.0)\n",
      "RT @PeterDellaPenna: Bittersweet day for Nepal cricket - Iconic grinner spinner Shakti Gauchan has announced he will retire following Nepal…\n",
      "Sentiment(polarity=0.25, subjectivity=0.3)\n",
      "@lescro92000 @km__213 @joohnblay @Hazardeux_ @Brucskoo je t’ai pas dis le contraire mais celui qui a était titulair… https://t.co/yWD1wXgk1V\n",
      "Sentiment(polarity=0.0, subjectivity=0.0)\n",
      "nepal porno naked pictures housewives naked picture solo teen crying gothic girl free porn seniors sex  https://t.co/bvS2yprv1S\n",
      "Sentiment(polarity=0.04, subjectivity=0.44000000000000006)\n",
      "RT @taran_adarsh: IT'S OFFICIAL... Bhushan Kumar, Nikkhil Advani and John Abraham join hands for #BatlaHouse... All three will jointly prod…\n",
      "Sentiment(polarity=0.0, subjectivity=0.0)\n"
     ]
    }
   ],
   "source": [
    "name=input('Enter the tweet name to search')\n",
    "\n",
    "public_tweets = api.search(name) \n",
    "\n",
    "for tweet in public_tweets:\n",
    "    print(tweet.text)\n",
    "    analysis = TextBlob(tweet.text)\n",
    "    print(analysis.sentiment)"
   ]
  },
  {
   "cell_type": "code",
   "execution_count": null,
   "metadata": {},
   "outputs": [],
   "source": []
  }
 ],
 "metadata": {
  "kernelspec": {
   "display_name": "Python 3",
   "language": "python",
   "name": "python3"
  },
  "language_info": {
   "codemirror_mode": {
    "name": "ipython",
    "version": 3
   },
   "file_extension": ".py",
   "mimetype": "text/x-python",
   "name": "python",
   "nbconvert_exporter": "python",
   "pygments_lexer": "ipython3",
   "version": "3.6.5"
  }
 },
 "nbformat": 4,
 "nbformat_minor": 2
}
